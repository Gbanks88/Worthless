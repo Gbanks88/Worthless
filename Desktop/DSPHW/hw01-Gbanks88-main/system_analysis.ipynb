{
 "cells": [
  {
   "cell_type": "markdown",
   "id": "3e2b54f3",
   "metadata": {
    "deletable": false,
    "editable": false,
    "nbgrader": {
     "cell_type": "markdown",
     "checksum": "bd8852cbda0d6d18050704745aefb949",
     "grade": false,
     "grade_id": "cell-bdd4981e66c0f86a",
     "locked": true,
     "schema_version": 3,
     "solution": false,
     "task": false
    }
   },
   "source": [
    "Before you turn this problem in, make sure everything runs as expected. First, **restart the kernel** (in the menubar, select Kernel$\\rightarrow$Restart) and then **run all cells** (in the menubar, select Cell$\\rightarrow$Run All).\n",
    "\n",
    "Make sure you fill in any place that says `YOUR CODE HERE` or \"YOUR ANSWER HERE\", as well as your name and collaborators below:"
   ]
  },
  {
   "cell_type": "markdown",
   "id": "3e4bf51b-bfdd-419f-8cdc-2e166169b2b5",
   "metadata": {
    "deletable": false,
    "editable": false,
    "nbgrader": {
     "cell_type": "markdown",
     "checksum": "a7e3b1100dfc0548efa3d90e1c6a3c0b",
     "grade": false,
     "grade_id": "cell-84578497dc991c7f",
     "locked": true,
     "schema_version": 3,
     "solution": false,
     "task": false
    }
   },
   "source": [
    "# System Analysis"
   ]
  },
  {
   "cell_type": "markdown",
   "id": "72db090b-97bc-48e6-8eb1-b7299b1063d0",
   "metadata": {
    "deletable": false,
    "editable": false,
    "nbgrader": {
     "cell_type": "markdown",
     "checksum": "d79619a1b45ec1d8287588867f948ca3",
     "grade": false,
     "grade_id": "cell-6ce6199e9a850ac8",
     "locked": true,
     "schema_version": 3,
     "solution": false,
     "task": false
    }
   },
   "source": [
    "Consider the system illustrated below.  The output of an LTI system with an impulse response $h[n] = (1/4)^n u[n+10]$ is multiplied by a unit step function $u[n]$ to yield the output of the overall system. Answer each of the following questions.\n",
    "\n",
    "<img src=\"system_analysis_fig.png\" width=\"400\"/>\n"
   ]
  },
  {
   "cell_type": "markdown",
   "id": "9705287e-73cd-4116-bdd9-606e62f456a7",
   "metadata": {
    "deletable": false,
    "editable": false,
    "nbgrader": {
     "cell_type": "markdown",
     "checksum": "5a27682ad5746d09256d68ef0b055c33",
     "grade": false,
     "grade_id": "cell-aa41bbc8ac487128",
     "locked": true,
     "schema_version": 3,
     "solution": false,
     "task": false
    }
   },
   "source": [
    "Is the overall system LTI?  Answer `LTI = True/False`."
   ]
  },
  {
   "cell_type": "code",
   "execution_count": 42,
   "id": "80e55305-60d6-4a95-a70f-5a26494e8ec9",
   "metadata": {
    "deletable": false,
    "nbgrader": {
     "cell_type": "code",
     "checksum": "06fda84c47ac5260c556f972565fe5cd",
     "grade": false,
     "grade_id": "cell-75c4c515a627d8c1",
     "locked": false,
     "schema_version": 3,
     "solution": true,
     "task": false
    }
   },
   "outputs": [
    {
     "name": "stdout",
     "output_type": "stream",
     "text": [
      "Linear Check: True\n",
      "Time-Invariance Check: False\n",
      "LTI: False\n"
     ]
    }
   ],
   "source": [
    "import numpy as np\n",
    "import matplotlib.pyplot as plt\n",
    "\n",
    "# Define the impulse response h[n]\n",
    "def h(n):\n",
    "    return (1/4)**n * (n >= -10)\n",
    "\n",
    "# Define the unit step function u[n]\n",
    "def u(n):\n",
    "    return np.where(n >= 0, 1, 0)\n",
    "\n",
    "# Define the input signal x[n]\n",
    "n_vals = np.arange(-20, 21)\n",
    "x = np.cos(0.1 * np.pi * n_vals)\n",
    "\n",
    "# Output of LTI system for x[n]\n",
    "y = np.convolve(x, h(n_vals), mode='same')\n",
    "\n",
    "# Multiply by unit step function\n",
    "y_overall = y * u(n_vals)\n",
    "\n",
    "# Check linearity: a * x[n]\n",
    "a = 2\n",
    "y1 = np.convolve(a * x, h(n_vals), mode='same') * u(n_vals)\n",
    "linear_check = np.allclose(a * y_overall, y1)\n",
    "\n",
    "# Check time-invariance: x[n-k]\n",
    "k = 5\n",
    "x_shifted = np.roll(x, k)\n",
    "y_shifted = np.convolve(x_shifted, h(n_vals), mode='same') * u(n_vals)\n",
    "time_invariance_check = np.allclose(np.roll(y_overall, k), y_shifted)\n",
    "\n",
    "# Determine if the system is LTI\n",
    "LTI = linear_check and time_invariance_check\n",
    "\n",
    "print(\"Linear Check:\", linear_check)\n",
    "print(\"Time-Invariance Check:\", time_invariance_check)\n",
    "print(\"LTI:\", LTI)\n"
   ]
  },
  {
   "cell_type": "code",
   "execution_count": 43,
   "id": "7addc51d-73ae-4873-b585-7bea1e75e7ae",
   "metadata": {
    "deletable": false,
    "editable": false,
    "nbgrader": {
     "cell_type": "code",
     "checksum": "938f29cd2785eabe5beb7a2bae756714",
     "grade": true,
     "grade_id": "cell-a7172eb38f960f1c",
     "locked": true,
     "points": 1,
     "schema_version": 3,
     "solution": false,
     "task": false
    }
   },
   "outputs": [],
   "source": [
    "assert isinstance(LTI, bool)\n"
   ]
  },
  {
   "cell_type": "markdown",
   "id": "c4d35cf9-b6f2-4de0-aaed-0fc3560d08ba",
   "metadata": {
    "deletable": false,
    "editable": false,
    "nbgrader": {
     "cell_type": "markdown",
     "checksum": "5db5cf0a71c7d6e2eaaa237d7e56bbf5",
     "grade": false,
     "grade_id": "cell-559b94d0d86c09b6",
     "locked": true,
     "schema_version": 3,
     "solution": false,
     "task": false
    }
   },
   "source": [
    "Is the overall system causal? Answer `causal = True/False`."
   ]
  },
  {
   "cell_type": "code",
   "execution_count": 44,
   "id": "bf149692-29ce-4e9e-b0db-8f2068346052",
   "metadata": {
    "deletable": false,
    "nbgrader": {
     "cell_type": "code",
     "checksum": "72d6c556dcf221112a4ea26137800c32",
     "grade": false,
     "grade_id": "cell-34a4fcd86d2fe19f",
     "locked": false,
     "schema_version": 3,
     "solution": true,
     "task": false
    }
   },
   "outputs": [
    {
     "name": "stdout",
     "output_type": "stream",
     "text": [
      "Causal: False\n"
     ]
    },
    {
     "data": {
      "image/png": "[encoded data removed]",
      "text/plain": [
       "<Figure size 640x480 with 1 Axes>"
      ]
     },
     "metadata": {},
     "output_type": "display_data"
    }
   ],
   "source": [
    "import numpy as np\n",
    "import matplotlib.pyplot as plt\n",
    "\n",
    "# Define the impulse response h[n]\n",
    "def h(n):\n",
    "    return (1/4)**n * (n >= -10)\n",
    "\n",
    "# Define the range of n\n",
    "n_vals = np.arange(-20, 21)\n",
    "\n",
    "# Impulse response values\n",
    "h_vals = h(n_vals)\n",
    "\n",
    "# Check for causality\n",
    "causal = all(h(n) == 0 for n in n_vals if n < 0)\n",
    "print(\"Causal:\", causal)\n",
    "\n",
    "# Plot the impulse response to verify causality\n",
    "plt.figure()\n",
    "plt.stem(n_vals, h_vals, label=\"h[n]\")\n",
    "plt.legend()\n",
    "plt.xlabel(\"$n$\")\n",
    "plt.ylabel(\"$h[n]$\")\n",
    "plt.title(\"Impulse Response to Check Causality\")\n",
    "plt.grid(True)\n",
    "plt.show()\n"
   ]
  },
  {
   "cell_type": "code",
   "execution_count": 45,
   "id": "4054aae7-ae7b-4f6e-afaa-ceb9689d2266",
   "metadata": {
    "deletable": false,
    "editable": false,
    "nbgrader": {
     "cell_type": "code",
     "checksum": "e27a5d67a969e68b68802e529bc588fa",
     "grade": true,
     "grade_id": "cell-2489b42468af7417",
     "locked": true,
     "points": 1,
     "schema_version": 3,
     "solution": false,
     "task": false
    }
   },
   "outputs": [],
   "source": [
    "assert isinstance(causal, bool)\n"
   ]
  },
  {
   "cell_type": "markdown",
   "id": "832c686b-aaf9-41b1-97c8-4a12631ed358",
   "metadata": {
    "deletable": false,
    "editable": false,
    "nbgrader": {
     "cell_type": "markdown",
     "checksum": "13ba466d91582c984cfa3d334f9ac3b1",
     "grade": false,
     "grade_id": "cell-0b25260da498a35d",
     "locked": true,
     "schema_version": 3,
     "solution": false,
     "task": false
    }
   },
   "source": [
    "Is the overall system stable in the BIBO sense? Answer `BIBO = True/False`."
   ]
  },
  {
   "cell_type": "code",
   "execution_count": 41,
   "id": "ee0f46a9-b3dc-4e7d-862f-26a1d0062d73",
   "metadata": {
    "deletable": false,
    "nbgrader": {
     "cell_type": "code",
     "checksum": "ae66e5ebf66de9efae3aafc7d4aff247",
     "grade": false,
     "grade_id": "cell-db541b5583ddc4a6",
     "locked": false,
     "schema_version": 3,
     "solution": true,
     "task": false
    }
   },
   "outputs": [
    {
     "name": "stdout",
     "output_type": "stream",
     "text": [
      "is_bibo_stable: True\n",
      "Type of is_bibo_stable: <class 'numpy.bool'>\n"
     ]
    },
    {
     "ename": "AssertionError",
     "evalue": "is_bibo_stable must be a boolean value.",
     "output_type": "error",
     "traceback": [
      "\u001b[0;31m---------------------------------------------------------------------------\u001b[0m",
      "\u001b[0;31mAssertionError\u001b[0m                            Traceback (most recent call last)",
      "Cell \u001b[0;32mIn[41], line 26\u001b[0m\n\u001b[1;32m     23\u001b[0m \u001b[38;5;28mprint\u001b[39m(\u001b[38;5;124m\"\u001b[39m\u001b[38;5;124mType of is_bibo_stable:\u001b[39m\u001b[38;5;124m\"\u001b[39m, \u001b[38;5;28mtype\u001b[39m(is_bibo_stable))\n\u001b[1;32m     25\u001b[0m \u001b[38;5;66;03m# Ensure is_bibo_stable is a boolean\u001b[39;00m\n\u001b[0;32m---> 26\u001b[0m \u001b[38;5;28;01massert\u001b[39;00m \u001b[38;5;28misinstance\u001b[39m(is_bibo_stable, \u001b[38;5;28mbool\u001b[39m), \u001b[38;5;124m\"\u001b[39m\u001b[38;5;124mis_bibo_stable must be a boolean value.\u001b[39m\u001b[38;5;124m\"\u001b[39m\n\u001b[1;32m     28\u001b[0m \u001b[38;5;66;03m# Multiply the impulse response by the unit step function\u001b[39;00m\n\u001b[1;32m     29\u001b[0m output \u001b[38;5;241m=\u001b[39m h_vals \u001b[38;5;241m*\u001b[39m u(n_vals)\n",
      "\u001b[0;31mAssertionError\u001b[0m: is_bibo_stable must be a boolean value."
     ]
    }
   ],
   "source": [
    "import numpy as np\n",
    "import matplotlib.pyplot as plt\n",
    "\n",
    "# Define the impulse response h[n]\n",
    "def h(n):\n",
    "    return (1/4)**n * (n >= -10)  # h[n] = (1/4)^n * u[n + 10]\n",
    "\n",
    "# Define the unit step function u[n]\n",
    "def u(n):\n",
    "    return (n >= 0).astype(int)  # u[n] = 1 for n >= 0, 0 otherwise\n",
    "\n",
    "# Define the range of n values\n",
    "n_vals = np.arange(-20, 20)  # Adjust the range as needed\n",
    "\n",
    "# Calculate the impulse response values\n",
    "h_vals = h(n_vals)\n",
    "\n",
    "# Check BIBO stability\n",
    "is_bibo_stable = bool(np.isfinite(np.sum(np.abs(h_vals))))  # Ensure this is a boolean\n",
    "\n",
    "# Debugging output\n",
    "print(\"is_bibo_stable:\", is_bibo_stable)\n",
    "print(\"Type of is_bibo_stable:\", type(is_bibo_stable))\n",
    "\n",
    "# Ensure is_bibo_stable is a boolean\n",
    "assert isinstance(is_bibo_stable, bool), \"is_bibo_stable must be a boolean value.\"\n",
    "\n",
    "# Multiply the impulse response by the unit step function\n",
    "output = h_vals * u(n_vals)\n",
    "\n",
    "# Plot the impulse response and the output\n",
    "plt.figure(figsize=(12, 6))\n",
    "\n",
    "# Plot impulse response\n",
    "plt.subplot(2, 1, 1)\n",
    "plt.stem(n_vals, h_vals, use_line_collection=True)\n",
    "plt.title(\"Impulse Response h[n]\")\n",
    "plt.xlabel(\"n\")\n",
    "plt.ylabel(\"h[n]\")\n",
    "plt.grid()\n",
    "\n",
    "# Plot output\n",
    "plt.subplot(2, 1, 2)\n",
    "plt.stem(n_vals, output, use_line_collection=True)\n",
    "plt.title(\"Output of the Overall System\")\n",
    "plt.xlabel(\"n\")\n",
    "plt.ylabel(\"Output\")\n",
    "plt.grid()\n",
    "\n",
    "plt.tight_layout()\n",
    "plt.show()\n",
    "\n",
    "# Output the BIBO stability result\n",
    "print(\"BIBO Stable:\", is_bibo_stable)"
   ]
  },
  {
   "cell_type": "code",
   "execution_count": null,
   "id": "58103f1f-ee30-4014-8051-91241554ebda",
   "metadata": {
    "deletable": false,
    "editable": false,
    "nbgrader": {
     "cell_type": "code",
     "checksum": "48d0ad66b4640019639c01ebe0174024",
     "grade": true,
     "grade_id": "cell-f70d5a4ea6b6fea1",
     "locked": true,
     "points": 1,
     "schema_version": 3,
     "solution": false,
     "task": false
    }
   },
   "outputs": [],
   "source": [
    "assert isinstance(BIBO, bool)\n"
   ]
  }
 ],
 "metadata": {
  "kernelspec": {
   "display_name": "Python 3 (ipykernel)",
   "language": "python",
   "name": "python3"
  },
  "language_info": {
   "codemirror_mode": {
    "name": "ipython",
    "version": 3
   },
   "file_extension": ".py",
   "mimetype": "text/x-python",
   "name": "python",
   "nbconvert_exporter": "python",
   "pygments_lexer": "ipython3",
   "version": "3.9.21"
  }
 },
 "nbformat": 4,
 "nbformat_minor": 5
}
