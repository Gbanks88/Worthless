{
 "cells": [
  {
   "cell_type": "markdown",
   "id": "06417fce",
   "metadata": {
    "deletable": false,
    "editable": false,
    "nbgrader": {
     "cell_type": "markdown",
     "checksum": "bd8852cbda0d6d18050704745aefb949",
     "grade": false,
     "grade_id": "cell-bdd4981e66c0f86a",
     "locked": true,
     "schema_version": 3,
     "solution": false,
     "task": false
    }
   },
   "source": [
    "Before you turn this problem in, make sure everything runs as expected. First, **restart the kernel** (in the menubar, select Kernel$\\rightarrow$Restart) and then **run all cells** (in the menubar, select Cell$\\rightarrow$Run All).\n",
    "\n",
    "Make sure you fill in any place that says `YOUR CODE HERE` or \"YOUR ANSWER HERE\", as well as your name and collaborators below:"
   ]
  },
  {
   "cell_type": "markdown",
   "id": "77276302-3cdf-4883-b3e2-1d556939488d",
   "metadata": {
    "deletable": false,
    "editable": false,
    "nbgrader": {
     "cell_type": "markdown",
     "checksum": "7aed6fc7cdd18f1d8fc5cc1b89bfc006",
     "grade": false,
     "grade_id": "cell-66b8868be2a43bc7",
     "locked": true,
     "schema_version": 3,
     "solution": false,
     "task": false
    }
   },
   "source": [
    "# System Characterization"
   ]
  },
  {
   "cell_type": "code",
   "execution_count": 3,
   "id": "5ada29d7-bf3f-4afe-8141-f687cae40606",
   "metadata": {
    "deletable": false,
    "editable": false,
    "nbgrader": {
     "cell_type": "code",
     "checksum": "750a912bc8f3780870808129180d2779",
     "grade": false,
     "grade_id": "cell-7a123eb9259b6afc",
     "locked": true,
     "schema_version": 3,
     "solution": false,
     "task": false
    }
   },
   "outputs": [],
   "source": [
    "import numpy as np"
   ]
  },
  {
   "cell_type": "markdown",
   "id": "26bf2421-37fa-4b03-881a-6dc58ba8e0e6",
   "metadata": {
    "deletable": false,
    "editable": false,
    "nbgrader": {
     "cell_type": "markdown",
     "checksum": "f1f48c7a5ee1adb92650c8d8a5b35eac",
     "grade": false,
     "grade_id": "cell-a8372d0ded728619",
     "locked": true,
     "schema_version": 3,
     "solution": false,
     "task": false
    }
   },
   "source": [
    "For each of the following systems, determine whether the system is stable, causal,\n",
    "linear, time-invariant, and memoryless.\n",
    "\n",
    "Respond with variables such as:\n",
    "`stable = True/False`\n",
    "`causal = True/False`\n",
    "`linear = True/False`\n",
    "`time_invariant = True/False`\n",
    "`memoryless = True/False`"
   ]
  },
  {
   "cell_type": "markdown",
   "id": "5a8c4011-1499-453e-b931-cd13142231df",
   "metadata": {
    "deletable": false,
    "editable": false,
    "nbgrader": {
     "cell_type": "markdown",
     "checksum": "699f86995997b8baad5e805f3a813e5e",
     "grade": false,
     "grade_id": "cell-6a4bba7c186d41b1",
     "locked": true,
     "schema_version": 3,
     "solution": false,
     "task": false
    }
   },
   "source": [
    "1. $T (x[n]) = g[n]x[n]$ with $g[n]$ given (and is stable)"
   ]
  },
  {
   "cell_type": "code",
   "execution_count": 4,
   "id": "51f8f77a-9bee-48f0-b6f5-f8b7ebfa23d2",
   "metadata": {
    "deletable": false,
    "nbgrader": {
     "cell_type": "code",
     "checksum": "f84d4252e87c16591576aa0b557a8161",
     "grade": false,
     "grade_id": "cell-a2bb0cb534d82952",
     "locked": false,
     "schema_version": 3,
     "solution": true,
     "task": false
    }
   },
   "outputs": [
    {
     "data": {
      "image/png": "[encoded data removed]",
      "text/plain": [
       "<Figure size 640x480 with 1 Axes>"
      ]
     },
     "metadata": {},
     "output_type": "display_data"
    },
    {
     "name": "stdout",
     "output_type": "stream",
     "text": [
      "System 1 - Stable: True, Causal: True, Linear: True, Time-Invariant: False, Memoryless: True\n"
     ]
    }
   ],
   "source": [
    "import numpy as np\n",
    "import matplotlib.pyplot as plt\n",
    "\n",
    "# Define g[n]\n",
    "def g(n):\n",
    "    return np.exp(-0.1 * n)  # Example stable function\n",
    "\n",
    "# Define the input signal x[n]\n",
    "n_vals = np.arange(-10, 11)\n",
    "x = np.sin(0.1 * np.pi * n_vals)\n",
    "\n",
    "# Output of the system\n",
    "y = g(n_vals) * x\n",
    "\n",
    "# Plot the input and output signals\n",
    "plt.figure()\n",
    "plt.stem(n_vals, x, label=\"$x[n]$\")\n",
    "plt.stem(n_vals, y, linefmt='r-', markerfmt='ro', basefmt='r-', label=\"$y[n] = g[n]x[n]$\")\n",
    "plt.legend()\n",
    "plt.xlabel(\"$n$\")\n",
    "plt.ylabel(\"Amplitude\")\n",
    "plt.title(\"System 1: $T (x[n]) = g[n]x[n]$\")\n",
    "plt.grid(True)\n",
    "plt.show()\n",
    "\n",
    "# System properties\n",
    "stable_1 = True\n",
    "causal_1 = True\n",
    "linear_1 = True\n",
    "time_invariant_1 = False\n",
    "memoryless_1 = True\n",
    "\n",
    "print(f\"System 1 - Stable: {stable_1}, Causal: {causal_1}, Linear: {linear_1}, Time-Invariant: {time_invariant_1}, Memoryless: {memoryless_1}\")\n"
   ]
  },
  {
   "cell_type": "code",
   "execution_count": 5,
   "id": "301eb559-cdde-4e9b-b2a7-f73692fb2b79",
   "metadata": {
    "deletable": false,
    "editable": false,
    "nbgrader": {
     "cell_type": "code",
     "checksum": "de52fa60cb35e69cff6c201afe6148e0",
     "grade": true,
     "grade_id": "cell-5f726b946cee8a9b",
     "locked": true,
     "points": 1,
     "schema_version": 3,
     "solution": false,
     "task": false
    }
   },
   "outputs": [
    {
     "ename": "NameError",
     "evalue": "name 'stable' is not defined",
     "output_type": "error",
     "traceback": [
      "\u001b[0;31m---------------------------------------------------------------------------\u001b[0m",
      "\u001b[0;31mNameError\u001b[0m                                 Traceback (most recent call last)",
      "Cell \u001b[0;32mIn[5], line 1\u001b[0m\n\u001b[0;32m----> 1\u001b[0m \u001b[38;5;28;01massert\u001b[39;00m \u001b[38;5;28misinstance\u001b[39m(\u001b[43mstable\u001b[49m, \u001b[38;5;28mbool\u001b[39m)\n\u001b[1;32m      2\u001b[0m \u001b[38;5;28;01massert\u001b[39;00m \u001b[38;5;28misinstance\u001b[39m(causal, \u001b[38;5;28mbool\u001b[39m)\n\u001b[1;32m      3\u001b[0m \u001b[38;5;28;01massert\u001b[39;00m \u001b[38;5;28misinstance\u001b[39m(linear, \u001b[38;5;28mbool\u001b[39m)\n",
      "\u001b[0;31mNameError\u001b[0m: name 'stable' is not defined"
     ]
    }
   ],
   "source": [
    "assert isinstance(stable, bool)\n",
    "assert isinstance(causal, bool)\n",
    "assert isinstance(linear, bool)\n",
    "assert isinstance(time_invariant, bool)\n",
    "assert isinstance(memoryless, bool)\n"
   ]
  },
  {
   "cell_type": "markdown",
   "id": "a30b4e83-ceea-4df6-a762-b70ad4d5786c",
   "metadata": {
    "deletable": false,
    "editable": false,
    "nbgrader": {
     "cell_type": "markdown",
     "checksum": "c0c8b4ce0c117d819f8d4d4987ca2f1b",
     "grade": false,
     "grade_id": "cell-6140a361d1cf586b",
     "locked": true,
     "schema_version": 3,
     "solution": false,
     "task": false
    }
   },
   "source": [
    "2. $T (x[n]) = \\sum^n_{k=n_0} x[k],\\qquad n\\neq 0$"
   ]
  },
  {
   "cell_type": "code",
   "execution_count": null,
   "id": "07fc07af-01ac-416c-8f2d-b73d7c1ca0d2",
   "metadata": {
    "deletable": false,
    "nbgrader": {
     "cell_type": "code",
     "checksum": "47e51c5f182380b817a89a97a83df1f3",
     "grade": false,
     "grade_id": "cell-88cba98cf7021af1",
     "locked": false,
     "schema_version": 3,
     "solution": true,
     "task": false
    }
   },
   "outputs": [],
   "source": [
    "import numpy as np\n",
    "import matplotlib.pyplot as plt\n",
    "\n",
    "\n",
    "# Define the input signal x[n]\n",
    "x = np.sin(0.1 * np.pi * n_vals)\n",
    "\n",
    "# Define the running sum function\n",
    "def running_sum(x, n0):\n",
    "    return np.array([np.sum(x[n0:k+1]) if k >= n0 else 0 for k in range(len(x))])\n",
    "\n",
    "# Compute the output of the system\n",
    "n0 = 0\n",
    "y = running_sum(x, n0)\n",
    "\n",
    "# Plot the input and output signals\n",
    "plt.figure()\n",
    "plt.stem(n_vals, x, label=\"$x[n]$\")\n",
    "plt.stem(n_vals, y, linefmt='r-', markerfmt='ro', basefmt='r-', label=\"$y[n] = \\sum_{k=n_0}^n x[k]$\")\n",
    "plt.legend()\n",
    "plt.xlabel(\"$n$\")\n",
    "plt.ylabel(\"Amplitude\")\n",
    "plt.title(\"System 2: $T (x[n]) = \\sum_{k=n_0}^n x[k]$\")\n",
    "plt.grid(True)\n",
    "plt.show()\n",
    "\n",
    "# System properties\n",
    "stable_2 = False\n",
    "causal_2 = True\n",
    "linear_2 = True\n",
    "time_invariant_2 = False\n",
    "memoryless_2 = False\n",
    "\n",
    "print(f\"System 2 - Stable: {stable_2}, Causal: {causal_2}, Linear: {linear_2}, Time-Invariant: {time_invariant_2}, Memoryless: {memoryless_2}\")\n"
   ]
  },
  {
   "cell_type": "code",
   "execution_count": null,
   "id": "c4f99974-0276-40df-a41e-026ecd515de5",
   "metadata": {
    "deletable": false,
    "editable": false,
    "nbgrader": {
     "cell_type": "code",
     "checksum": "1d20c9e972b16aaccc096746da018d2a",
     "grade": true,
     "grade_id": "cell-baf66140ee3671b8",
     "locked": true,
     "points": 0,
     "schema_version": 3,
     "solution": false,
     "task": false
    }
   },
   "outputs": [],
   "source": [
    "assert isinstance(stable, bool)\n",
    "assert isinstance(causal, bool)\n",
    "assert isinstance(linear, bool)\n",
    "assert isinstance(time_invariant, bool)\n",
    "assert isinstance(memoryless, bool)\n"
   ]
  },
  {
   "cell_type": "markdown",
   "id": "7ab9eb2f-cda9-4f70-ba2d-7dc7d32b0a2f",
   "metadata": {
    "deletable": false,
    "editable": false,
    "nbgrader": {
     "cell_type": "markdown",
     "checksum": "54ce65b4cea12f6eb100d0d325856fb6",
     "grade": false,
     "grade_id": "cell-73d4ab6fdfe62d03",
     "locked": true,
     "schema_version": 3,
     "solution": false,
     "task": false
    }
   },
   "source": [
    "3. $T (x[n]) = ax[n] + b$"
   ]
  },
  {
   "cell_type": "code",
   "execution_count": null,
   "id": "6ee1c22b-ecbe-497f-acb3-9b2cf19bfb8e",
   "metadata": {
    "deletable": false,
    "nbgrader": {
     "cell_type": "code",
     "checksum": "439c13053b1436748336b1fd12324717",
     "grade": false,
     "grade_id": "cell-cad1c62e9b70ccfe",
     "locked": false,
     "schema_version": 3,
     "solution": true,
     "task": false
    }
   },
   "outputs": [],
   "source": [
    "import numpy as np\n",
    "import matplotlib.pyplot as plt\n",
    "\n",
    "# Define the coefficients\n",
    "a = 2\n",
    "b = 3\n",
    "\n",
    "# Compute the output of the system\n",
    "y = a * x + b\n",
    "\n",
    "# Plot the input and output signals\n",
    "plt.figure()\n",
    "plt.stem(n_vals, x, label=\"$x[n]$\")\n",
    "plt.stem(n_vals, y, linefmt='r-', markerfmt='ro', basefmt='r-', label=\"$y[n] = ax[n] + b$\")\n",
    "plt.legend()\n",
    "plt.xlabel(\"$n$\")\n",
    "plt.ylabel(\"Amplitude\")\n",
    "plt.title(\"System 3: $T (x[n]) = ax[n] + b$\")\n",
    "plt.grid(True)\n",
    "plt.show()\n",
    "\n",
    "# System properties\n",
    "stable_3 = True\n",
    "causal_3 = True\n",
    "linear_3 = False\n",
    "time_invariant_3 = True\n",
    "memoryless_3 = True\n",
    "\n",
    "print(f\"System 3 - Stable: {stable_3}, Causal: {causal_3}, Linear: {linear_3}, Time-Invariant: {time_invariant_3}, Memoryless: {memoryless_3}\")\n"
   ]
  },
  {
   "cell_type": "code",
   "execution_count": null,
   "id": "9dc7d7ad-a3d3-4c77-8d51-b53a7e068c81",
   "metadata": {
    "deletable": false,
    "editable": false,
    "nbgrader": {
     "cell_type": "code",
     "checksum": "f435d5bba799687ff9552381739752ee",
     "grade": true,
     "grade_id": "cell-2be82464af52d10f",
     "locked": true,
     "points": 1,
     "schema_version": 3,
     "solution": false,
     "task": false
    }
   },
   "outputs": [],
   "source": [
    "assert isinstance(stable, bool)\n",
    "assert isinstance(causal, bool)\n",
    "assert isinstance(linear, bool)\n",
    "assert isinstance(time_invariant, bool)\n",
    "assert isinstance(memoryless, bool)\n"
   ]
  },
  {
   "cell_type": "markdown",
   "id": "1c4a79a5-78b5-421f-ae1a-f83de49069ff",
   "metadata": {
    "deletable": false,
    "editable": false,
    "nbgrader": {
     "cell_type": "markdown",
     "checksum": "032da59483e40d4ea49741c718e6149a",
     "grade": false,
     "grade_id": "cell-612f0299f8e5d6d8",
     "locked": true,
     "schema_version": 3,
     "solution": false,
     "task": false
    }
   },
   "source": [
    "4. $T (x[n]) = x[n] + 3u[n + 1]$"
   ]
  },
  {
   "cell_type": "code",
   "execution_count": null,
   "id": "289c2e8a-5860-42f4-8f13-f0871e0616f0",
   "metadata": {
    "deletable": false,
    "nbgrader": {
     "cell_type": "code",
     "checksum": "725f7a539eab99a18e6ca6cbd9703388",
     "grade": false,
     "grade_id": "cell-88120f50cab1f24c",
     "locked": false,
     "schema_version": 3,
     "solution": true,
     "task": false
    }
   },
   "outputs": [],
   "source": [
    "import numpy as np\n",
    "import matplotlib.pyplot as plt\n",
    "\n",
    "\n",
    "# Define the unit step function u[n]\n",
    "def u(n):\n",
    "    return np.where(n >= 0, 1, 0)\n",
    "\n",
    "# Compute the output of the system\n",
    "y = x + 3 * u(n_vals + 1)\n",
    "\n",
    "# Plot the input and output signals\n",
    "plt.figure()\n",
    "plt.stem(n_vals, x, label=\"$x[n]$\")\n",
    "plt.stem(n_vals, y, linefmt='r-', markerfmt='ro', basefmt='r-', label=\"$y[n] = x[n] + 3u[n + 1]$\")\n",
    "plt.legend()\n",
    "plt.xlabel(\"$n$\")\n",
    "plt.ylabel(\"Amplitude\")\n",
    "plt.title(\"System 4: $T (x[n]) = x[n] + 3u[n + 1]$\")\n",
    "plt.grid(True)\n",
    "plt.show()\n",
    "\n",
    "# System properties\n",
    "stable_4 = False\n",
    "causal_4 = False\n",
    "linear_4 = True\n",
    "time_invariant_4 = False\n",
    "memoryless_4 = False\n",
    "\n",
    "print(f\"System 4 - Stable: {stable_4}, Causal: {causal_4}, Linear: {linear_4}, Time-Invariant: {time_invariant_4}, Memoryless: {memoryless_4}\")\n"
   ]
  },
  {
   "cell_type": "code",
   "execution_count": null,
   "id": "8c32877d-0ab8-4826-8003-b764029e731c",
   "metadata": {
    "deletable": false,
    "editable": false,
    "nbgrader": {
     "cell_type": "code",
     "checksum": "ef4311fe96ebed8d229caa3f77100526",
     "grade": true,
     "grade_id": "cell-a18eef309781270e",
     "locked": true,
     "points": 1,
     "schema_version": 3,
     "solution": false,
     "task": false
    }
   },
   "outputs": [],
   "source": [
    "assert isinstance(stable, bool)\n",
    "assert isinstance(causal, bool)\n",
    "assert isinstance(linear, bool)\n",
    "assert isinstance(time_invariant, bool)\n",
    "assert isinstance(memoryless, bool)\n"
   ]
  },
  {
   "cell_type": "markdown",
   "id": "9e5e1875-7028-4a60-8b1a-6e1c06da72ae",
   "metadata": {
    "deletable": false,
    "editable": false,
    "nbgrader": {
     "cell_type": "markdown",
     "checksum": "7ab4afeda717b29014852531f9b35480",
     "grade": false,
     "grade_id": "cell-bc996c91d0f9f4f1",
     "locked": true,
     "schema_version": 3,
     "solution": false,
     "task": false
    }
   },
   "source": [
    "5. $T (x[n]) = (\\cos(\\pi n))x[n]$"
   ]
  },
  {
   "cell_type": "code",
   "execution_count": null,
   "id": "f54635ea-e46c-4079-b8fc-e2e2ab467860",
   "metadata": {
    "deletable": false,
    "nbgrader": {
     "cell_type": "code",
     "checksum": "e47c9077616a892aedcb5827bc63ec57",
     "grade": false,
     "grade_id": "cell-5609ac6090b3a5c9",
     "locked": false,
     "schema_version": 3,
     "solution": true,
     "task": false
    }
   },
   "outputs": [],
   "source": [
    "import numpy as np\n",
    "import matplotlib.pyplot as plt\n",
    "\n",
    "\n",
    "# Compute the output of the system\n",
    "y = np.cos(np.pi * n_vals) * x\n",
    "\n",
    "# Plot the input and output signals\n",
    "plt.figure()\n",
    "plt.stem(n_vals, x, label=\"$x[n]$\")\n",
    "plt.stem(n_vals, y, linefmt='r-', markerfmt='ro', basefmt='r-', label=\"$y[n] = (\\cos(\\pi n))x[n]$\")\n",
    "plt.legend()\n",
    "plt.xlabel(\"$n$\")\n",
    "plt.ylabel(\"Amplitude\")\n",
    "plt.title(\"System 5: $T (x[n]) = (\\cos(\\pi n))x[n]$\")\n",
    "plt.grid(True)\n",
    "plt.show()\n",
    "\n",
    "# System properties\n",
    "stable_5 = True\n",
    "causal_5 = True\n",
    "linear_5 = True\n",
    "time_invariant_5 = False\n",
    "memoryless_5 = True\n",
    "\n",
    "print(f\"System 5 - Stable: {stable_5}, Causal: {causal_5}, Linear: {linear_5}, Time-Invariant: {time_invariant_5}, Memoryless: {memoryless_5}\")\n"
   ]
  },
  {
   "cell_type": "code",
   "execution_count": null,
   "id": "0f92ebaf-7dc0-4081-8225-876d7ac2cf18",
   "metadata": {
    "deletable": false,
    "editable": false,
    "nbgrader": {
     "cell_type": "code",
     "checksum": "d792589e6d653a6749556d2bdd05548b",
     "grade": true,
     "grade_id": "cell-44630afd8e8c08d5",
     "locked": true,
     "points": 1,
     "schema_version": 3,
     "solution": false,
     "task": false
    }
   },
   "outputs": [],
   "source": [
    "assert isinstance(stable, bool)\n",
    "assert isinstance(causal, bool)\n",
    "assert isinstance(linear, bool)\n",
    "assert isinstance(time_invariant, bool)\n",
    "assert isinstance(memoryless, bool)\n"
   ]
  }
 ],
 "metadata": {
  "kernelspec": {
   "display_name": "Python 3 (ipykernel)",
   "language": "python",
   "name": "python3"
  },
  "language_info": {
   "codemirror_mode": {
    "name": "ipython",
    "version": 3
   },
   "file_extension": ".py",
   "mimetype": "text/x-python",
   "name": "python",
   "nbconvert_exporter": "python",
   "pygments_lexer": "ipython3",
   "version": "3.9.21"
  }
 },
 "nbformat": 4,
 "nbformat_minor": 5
}
