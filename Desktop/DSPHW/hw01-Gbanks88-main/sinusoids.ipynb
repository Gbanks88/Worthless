{
 "cells": [
  {
   "cell_type": "markdown",
   "id": "ba94c4ff",
   "metadata": {
    "deletable": false,
    "editable": false,
    "nbgrader": {
     "cell_type": "markdown",
     "checksum": "bd8852cbda0d6d18050704745aefb949",
     "grade": false,
     "grade_id": "cell-bdd4981e66c0f86a",
     "locked": true,
     "schema_version": 3,
     "solution": false,
     "task": false
    }
   },
   "source": [
    "Before you turn this problem in, make sure everything runs as expected. First, **restart the kernel** (in the menubar, select Kernel$\\rightarrow$Restart) and then **run all cells** (in the menubar, select Cell$\\rightarrow$Run All).\n",
    "\n",
    "Make sure you fill in any place that says `YOUR CODE HERE` or \"YOUR ANSWER HERE\", as well as your name and collaborators below:"
   ]
  },
  {
   "cell_type": "markdown",
   "id": "296e194d-e8c2-45f7-a1b8-c1eaaac64d71",
   "metadata": {
    "deletable": false,
    "editable": false,
    "nbgrader": {
     "cell_type": "markdown",
     "checksum": "11de1d42890536bb80fe5e1e4535dc8c",
     "grade": false,
     "grade_id": "cell-d2bd72fa79defbdf",
     "locked": true,
     "schema_version": 3,
     "solution": false,
     "task": false
    }
   },
   "source": [
    "# System identification"
   ]
  },
  {
   "cell_type": "code",
   "execution_count": 1,
   "id": "a1a356f1-80ec-4297-b0d4-6aa04b06917c",
   "metadata": {
    "deletable": false,
    "editable": false,
    "nbgrader": {
     "cell_type": "code",
     "checksum": "b776fd12c2f9d672be459929a5b94c7a",
     "grade": false,
     "grade_id": "cell-9d5d744239335540",
     "locked": true,
     "schema_version": 3,
     "solution": false,
     "task": false
    }
   },
   "outputs": [],
   "source": [
    "import numpy as np"
   ]
  },
  {
   "cell_type": "markdown",
   "id": "af188009-656f-4f79-90b4-07ef3951613a",
   "metadata": {
    "deletable": false,
    "editable": false,
    "nbgrader": {
     "cell_type": "markdown",
     "checksum": "46f9c43d8a40f75942a0693e754aa3ac",
     "grade": false,
     "grade_id": "cell-eaae493869453e24",
     "locked": true,
     "schema_version": 3,
     "solution": false,
     "task": false
    }
   },
   "source": [
    "The signal\n",
    "$$\n",
    "x_c(t) = \\cos(2\\pi (600) t)\n",
    "$$\n",
    "was sampled with a sampling period $T= 1/300$ to obtain a discrete-time signal $x[n]$.  What is the resulting sequence $x[n]$?\n",
    "\n",
    "Represent your answer as a function `x(n)`."
   ]
  },
  {
   "cell_type": "code",
   "execution_count": 2,
   "id": "26d5a4aa-cc09-4540-a703-dd22b34979f7",
   "metadata": {
    "deletable": false,
    "nbgrader": {
     "cell_type": "code",
     "checksum": "a0c34d776689e709e71a0d168f3d9385",
     "grade": false,
     "grade_id": "cell-d6d5a36820a00959",
     "locked": false,
     "schema_version": 3,
     "solution": true,
     "task": false
    }
   },
   "outputs": [
    {
     "name": "stdout",
     "output_type": "stream",
     "text": [
      "[1. 1. 1. 1. 1. 1. 1. 1. 1. 1.]\n"
     ]
    },
    {
     "data": {
      "image/png": "[encoded data removed]",
      "text/plain": [
       "<Figure size 640x480 with 1 Axes>"
      ]
     },
     "metadata": {},
     "output_type": "display_data"
    }
   ],
   "source": [
    "import numpy as np\n",
    "import matplotlib.pyplot as plt\n",
    "\n",
    "def x(n):\n",
    "    # Define the discrete-time signal\n",
    "    return np.cos(4 * np.pi * n)  # This is the implementation of the function\n",
    "\n",
    "# Example usage\n",
    "n_vals = np.arange(0, 10)  # Define a range of n values\n",
    "x_values = x(n_vals)  # Compute the discrete-time signal for the range\n",
    "\n",
    "# Output the values\n",
    "print(x_values)\n",
    "\n",
    "# Plot the graph\n",
    "plt.figure()\n",
    "plt.stem(n_vals, x_values, basefmt=\"r-\", linefmt='b-', markerfmt='bo')\n",
    "plt.xlabel(\"$n$\")\n",
    "plt.ylabel(\"$x[n]$\")\n",
    "plt.title(\"Discrete-Time Signal $x[n] = \\cos(4\\pi n)$\")\n",
    "plt.grid(True)\n",
    "plt.show()\n"
   ]
  },
  {
   "cell_type": "code",
   "execution_count": 3,
   "id": "e3d9cc16-d218-4cdf-99ae-97750a9cb240",
   "metadata": {
    "deletable": false,
    "editable": false,
    "nbgrader": {
     "cell_type": "code",
     "checksum": "fd8aa7f46f41ff30d49b3fefd2e91e7b",
     "grade": true,
     "grade_id": "cell-c5f45e3707b960fa",
     "locked": true,
     "points": 2,
     "schema_version": 3,
     "solution": false,
     "task": false
    }
   },
   "outputs": [],
   "source": [
    "assert isinstance(x(0), float)\n"
   ]
  },
  {
   "cell_type": "code",
   "execution_count": null,
   "id": "37198028-2b67-4f7a-a329-b50a4968a8d1",
   "metadata": {},
   "outputs": [],
   "source": []
  },
  {
   "cell_type": "code",
   "execution_count": null,
   "id": "2ecee857-4892-45c0-97ed-70d005abc05d",
   "metadata": {},
   "outputs": [],
   "source": []
  }
 ],
 "metadata": {
  "kernelspec": {
   "display_name": "Python 3 (ipykernel)",
   "language": "python",
   "name": "python3"
  },
  "language_info": {
   "codemirror_mode": {
    "name": "ipython",
    "version": 3
   },
   "file_extension": ".py",
   "mimetype": "text/x-python",
   "name": "python",
   "nbconvert_exporter": "python",
   "pygments_lexer": "ipython3",
   "version": "3.9.21"
  }
 },
 "nbformat": 4,
 "nbformat_minor": 5
}
